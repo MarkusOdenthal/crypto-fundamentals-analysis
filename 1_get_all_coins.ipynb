{
 "cells": [
  {
   "cell_type": "code",
   "metadata": {
    "cell_id": "1812a09b-8977-49ea-9bcb-629cb9aaed94",
    "tags": [],
    "deepnote_to_be_reexecuted": false,
    "source_hash": "b6da8fb6",
    "execution_start": 1645480833915,
    "execution_millis": 370,
    "deepnote_cell_height": 153,
    "deepnote_cell_type": "code"
   },
   "source": "import pandas as pd \nimport os\nimport json\nimport psycopg2\nfrom sqlalchemy import create_engine\n\nfrom methods.coinmarketcap_api import get_coins_coinmarketcap",
   "outputs": [],
   "execution_count": null
  },
  {
   "cell_type": "markdown",
   "source": "# Get Overview of the coins",
   "metadata": {
    "cell_id": "3023cccc-5f13-4955-8549-58e26b2c73a4",
    "tags": [],
    "is_collapsed": false,
    "deepnote_cell_height": 82,
    "deepnote_cell_type": "text-cell-h1"
   }
  },
  {
   "cell_type": "markdown",
   "source": "* ~Source 1 Coinmarketcap~\n* Source 2 CoinGecko\n* Source 3 Defilama",
   "metadata": {
    "cell_id": "44ef0990-cc4b-49f3-9176-e5947f80fee9",
    "tags": [],
    "deepnote_cell_height": 120.1875,
    "deepnote_cell_type": "markdown"
   }
  },
  {
   "cell_type": "code",
   "metadata": {
    "cell_id": "65229c50-daa0-4532-806b-18c4a44ae2e1",
    "tags": [],
    "deepnote_cell_height": 243,
    "deepnote_to_be_reexecuted": false,
    "source_hash": "37275d48",
    "execution_start": 1645480834298,
    "execution_millis": 1297,
    "deepnote_output_heights": [
     21.1875
    ],
    "deepnote_cell_type": "code"
   },
   "source": "response_not_empty = True\ndata_list = []\nstart = 1\nwhile response_not_empty:\n    data_json = get_coins_coinmarketcap(start=start)\n    data = pd.DataFrame(data_json['data'])\n    data_list.append(data)\n    start += 5000\n    response_not_empty = bool(data_json['data'])\ndata = pd.concat(data_list)",
   "outputs": [],
   "execution_count": null
  },
  {
   "cell_type": "markdown",
   "source": "# Preprocess data",
   "metadata": {
    "cell_id": "4b9bd3f7-6e78-4902-b62f-9335f1db3a15",
    "tags": [],
    "is_collapsed": false,
    "deepnote_cell_type": "text-cell-h1"
   }
  },
  {
   "cell_type": "code",
   "metadata": {
    "cell_id": "cb3146cd-e0db-4b8a-8fe3-029be79b5e1a",
    "tags": [],
    "deepnote_to_be_reexecuted": false,
    "source_hash": "6bf2723",
    "execution_start": 1645480835605,
    "execution_millis": 200,
    "deepnote_cell_type": "code"
   },
   "source": "data['platform'] = data['platform'].apply(lambda x: json.dumps(x))\ndata['first_historical_data'] = pd.to_datetime(data['first_historical_data'],infer_datetime_format=True)\ndata['last_historical_data'] = pd.to_datetime(data['last_historical_data'],infer_datetime_format=True)\n\ndata['first_historical_data_year'] = data['first_historical_data'].dt.year\ndata['last_historical_data_year'] = data['last_historical_data'].dt.year",
   "outputs": [],
   "execution_count": null
  },
  {
   "cell_type": "code",
   "metadata": {
    "cell_id": "0e8f1c03-ee20-46ae-8eec-74cc1370f128",
    "tags": [],
    "deepnote_to_be_reexecuted": false,
    "source_hash": "eea2060d",
    "execution_start": 1645480835819,
    "execution_millis": 0,
    "deepnote_cell_type": "code"
   },
   "source": "# init database\n# establish connections\n# db = create_engine(os.environ[\"CONN_STRING\"])\n# conn = db.connect()\n# data.to_sql('coins', con=conn, if_exists='replace', index=False)",
   "outputs": [],
   "execution_count": null
  },
  {
   "cell_type": "code",
   "metadata": {
    "tags": [],
    "deepnote_variable_name": "df_1",
    "sql_integration_id": "7febee12-e87c-46d1-a772-a82f0c235306",
    "cell_id": "1e9c9ba6-6184-46f9-baa3-871165ce632c",
    "deepnote_to_be_reexecuted": false,
    "source_hash": "d45a2667",
    "execution_start": 1645480835874,
    "execution_millis": 1492,
    "deepnote_sql_source": "SELECT\n    MAX(last_historical_data) AS last_update_date\nFROM public.coins ",
    "deepnote_cell_type": "sql"
   },
   "source": "\n\ndf_1 = _deepnote_execute_sql(\"\"\"SELECT\n    MAX(last_historical_data) AS last_update_date\nFROM public.coins \n\"\"\", 'SQL_7FEBEE12_E87C_46D1_A772_A82F0C235306')\ndf_1",
   "outputs": [
    {
     "output_type": "execute_result",
     "execution_count": 5,
     "data": {
      "application/vnd.deepnote.dataframe.v3+json": {
       "column_count": 1,
       "row_count": 1,
       "columns": [
        {
         "name": "last_update_date",
         "dtype": "datetime64[ns, UTC]",
         "stats": {
          "unique_count": 1,
          "nan_count": 0,
          "min": "2022-02-21 18:50:00+00:00",
          "max": "2022-02-21 18:50:00+00:00",
          "histogram": null
         }
        },
        {
         "name": "_deepnote_index_column",
         "dtype": "int64"
        }
       ],
       "rows": [
        {
         "last_update_date": "2022-02-21T18:50:00.000000",
         "_deepnote_index_column": 0
        }
       ]
      },
      "text/plain": "           last_update_date\n0 2022-02-21 18:50:00+00:00",
      "text/html": "<div>\n<style scoped>\n    .dataframe tbody tr th:only-of-type {\n        vertical-align: middle;\n    }\n\n    .dataframe tbody tr th {\n        vertical-align: top;\n    }\n\n    .dataframe thead th {\n        text-align: right;\n    }\n</style>\n<table border=\"1\" class=\"dataframe\">\n  <thead>\n    <tr style=\"text-align: right;\">\n      <th></th>\n      <th>last_update_date</th>\n    </tr>\n  </thead>\n  <tbody>\n    <tr>\n      <th>0</th>\n      <td>2022-02-21 18:50:00+00:00</td>\n    </tr>\n  </tbody>\n</table>\n</div>"
     },
     "metadata": {}
    }
   ],
   "execution_count": null
  },
  {
   "cell_type": "code",
   "metadata": {
    "tags": [],
    "sql_integration_id": "7febee12-e87c-46d1-a772-a82f0c235306",
    "cell_id": "7654122d-16ad-4bf0-a12f-a92ec90987df",
    "deepnote_variable_name": "old_data",
    "deepnote_to_be_reexecuted": false,
    "source_hash": "cf12b5aa",
    "execution_start": 1645480837377,
    "execution_millis": 2482,
    "deepnote_table_state": {
     "pageSize": 10,
     "pageIndex": 0,
     "filters": [],
     "sortBy": []
    },
    "deepnote_table_loading": false,
    "deepnote_sql_source": "SELECT *\nFROM public.coins ",
    "deepnote_cell_type": "sql"
   },
   "source": "\n\nold_data = _deepnote_execute_sql(\"\"\"SELECT *\nFROM public.coins \n\"\"\", 'SQL_7FEBEE12_E87C_46D1_A772_A82F0C235306')\nold_data",
   "outputs": [
    {
     "output_type": "execute_result",
     "execution_count": 6,
     "data": {
      "application/vnd.deepnote.dataframe.v3+json": {
       "column_count": 11,
       "row_count": 26347,
       "columns": [
        {
         "name": "id",
         "dtype": "int64",
         "stats": {
          "unique_count": 17219,
          "nan_count": 0,
          "min": "1",
          "max": "18243",
          "histogram": [
           {
            "bin_start": 1,
            "bin_end": 1825.2,
            "count": 2133
           },
           {
            "bin_start": 1825.2,
            "bin_end": 3649.4,
            "count": 2466
           },
           {
            "bin_start": 3649.4,
            "bin_end": 5473.6,
            "count": 2533
           },
           {
            "bin_start": 5473.6,
            "bin_end": 7297.8,
            "count": 2520
           },
           {
            "bin_start": 7297.8,
            "bin_end": 9122,
            "count": 2871
           },
           {
            "bin_start": 9122,
            "bin_end": 10946.2,
            "count": 2716
           },
           {
            "bin_start": 10946.2,
            "bin_end": 12770.4,
            "count": 2893
           },
           {
            "bin_start": 12770.4,
            "bin_end": 14594.6,
            "count": 2415
           },
           {
            "bin_start": 14594.6,
            "bin_end": 16418.8,
            "count": 2892
           },
           {
            "bin_start": 16418.8,
            "bin_end": 18243,
            "count": 2908
           }
          ]
         }
        },
        {
         "name": "name",
         "dtype": "object",
         "stats": {
          "unique_count": 17051,
          "nan_count": 0,
          "categories": [
           {
            "name": "Carbon",
            "count": 8
           },
           {
            "name": "Quartz",
            "count": 6
           },
           {
            "name": "17049 others",
            "count": 26333
           }
          ]
         }
        },
        {
         "name": "symbol",
         "dtype": "object",
         "stats": {
          "unique_count": 13502,
          "nan_count": 0,
          "categories": [
           {
            "name": "META",
            "count": 23
           },
           {
            "name": "FIRE",
            "count": 16
           },
           {
            "name": "13500 others",
            "count": 26308
           }
          ]
         }
        },
        {
         "name": "slug",
         "dtype": "object"
        },
        {
         "name": "rank",
         "dtype": "float64"
        },
        {
         "name": "is_active",
         "dtype": "int64"
        },
        {
         "name": "first_historical_data",
         "dtype": "datetime64[ns, UTC]"
        },
        {
         "name": "last_historical_data",
         "dtype": "datetime64[ns, UTC]"
        },
        {
         "name": "platform",
         "dtype": "object"
        },
        {
         "name": "first_historical_data_year",
         "dtype": "float64"
        },
        {
         "name": "last_historical_data_year",
         "dtype": "float64"
        },
        {
         "name": "_deepnote_index_column",
         "dtype": "int64"
        }
       ],
       "rows": [
        {
         "id": 1,
         "name": "Bitcoin",
         "symbol": "BTC",
         "slug": "bitcoin",
         "rank": 1,
         "is_active": 1,
         "first_historical_data": "2013-04-28T18:47:21.000000",
         "last_historical_data": "2022-02-20T15:29:00.000000",
         "platform": "null",
         "first_historical_data_year": 2013,
         "last_historical_data_year": 2022,
         "_deepnote_index_column": 0
        },
        {
         "id": 2,
         "name": "Litecoin",
         "symbol": "LTC",
         "slug": "litecoin",
         "rank": 20,
         "is_active": 1,
         "first_historical_data": "2013-04-28T18:47:22.000000",
         "last_historical_data": "2022-02-20T15:29:00.000000",
         "platform": "null",
         "first_historical_data_year": 2013,
         "last_historical_data_year": 2022,
         "_deepnote_index_column": 1
        },
        {
         "id": 3,
         "name": "Namecoin",
         "symbol": "NMC",
         "slug": "namecoin",
         "rank": 646,
         "is_active": 1,
         "first_historical_data": "2013-04-28T18:47:22.000000",
         "last_historical_data": "2022-02-20T15:29:00.000000",
         "platform": "null",
         "first_historical_data_year": 2013,
         "last_historical_data_year": 2022,
         "_deepnote_index_column": 2
        },
        {
         "id": 4,
         "name": "Terracoin",
         "symbol": "TRC",
         "slug": "terracoin",
         "rank": 1853,
         "is_active": 1,
         "first_historical_data": "2013-04-28T18:47:22.000000",
         "last_historical_data": "2022-02-20T15:29:00.000000",
         "platform": "null",
         "first_historical_data_year": 2013,
         "last_historical_data_year": 2022,
         "_deepnote_index_column": 3
        },
        {
         "id": 5,
         "name": "Peercoin",
         "symbol": "PPC",
         "slug": "peercoin",
         "rank": 821,
         "is_active": 1,
         "first_historical_data": "2013-04-28T18:47:23.000000",
         "last_historical_data": "2022-02-20T15:29:00.000000",
         "platform": "null",
         "first_historical_data_year": 2013,
         "last_historical_data_year": 2022,
         "_deepnote_index_column": 4
        },
        {
         "id": 6,
         "name": "Novacoin",
         "symbol": "NVC",
         "slug": "novacoin",
         "rank": 2098,
         "is_active": 1,
         "first_historical_data": "2013-04-28T18:47:23.000000",
         "last_historical_data": "2022-02-20T15:29:00.000000",
         "platform": "null",
         "first_historical_data_year": 2013,
         "last_historical_data_year": 2022,
         "_deepnote_index_column": 5
        },
        {
         "id": 7,
         "name": "Devcoin",
         "symbol": "DVC",
         "slug": "devcoin",
         "rank": "nan",
         "is_active": 0,
         "first_historical_data": "2013-04-28T18:47:34.000000",
         "last_historical_data": "2017-11-23T14:59:03.000000",
         "platform": "null",
         "first_historical_data_year": 2013,
         "last_historical_data_year": 2017,
         "_deepnote_index_column": 6
        },
        {
         "id": 8,
         "name": "Feathercoin",
         "symbol": "FTC",
         "slug": "feathercoin",
         "rank": 1508,
         "is_active": 1,
         "first_historical_data": "2013-05-03T03:25:15.000000",
         "last_historical_data": "2022-02-20T15:29:00.000000",
         "platform": "null",
         "first_historical_data_year": 2013,
         "last_historical_data_year": 2022,
         "_deepnote_index_column": 7
        },
        {
         "id": 9,
         "name": "Mincoin",
         "symbol": "MNC",
         "slug": "mincoin",
         "rank": "nan",
         "is_active": 0,
         "first_historical_data": "2013-05-03T03:25:15.000000",
         "last_historical_data": "2020-09-17T23:59:04.000000",
         "platform": "null",
         "first_historical_data_year": 2013,
         "last_historical_data_year": 2020,
         "_deepnote_index_column": 8
        },
        {
         "id": 10,
         "name": "Freicoin",
         "symbol": "FRC",
         "slug": "freicoin",
         "rank": 2204,
         "is_active": 1,
         "first_historical_data": "2013-05-03T03:25:15.000000",
         "last_historical_data": "2022-02-20T15:29:00.000000",
         "platform": "null",
         "first_historical_data_year": 2013,
         "last_historical_data_year": 2022,
         "_deepnote_index_column": 9
        }
       ]
      },
      "text/plain": "          id           name   symbol           slug    rank  is_active  \\\n0          1        Bitcoin      BTC        bitcoin     1.0          1   \n1          2       Litecoin      LTC       litecoin    20.0          1   \n2          3       Namecoin      NMC       namecoin   646.0          1   \n3          4      Terracoin      TRC      terracoin  1853.0          1   \n4          5       Peercoin      PPC       peercoin   821.0          1   \n...      ...            ...      ...            ...     ...        ...   \n26342  18238      Snowy Owl      SNO      snowy-owl  3043.0          1   \n26343  18239  Sunny Side up      SSU  sunny-side-up  5537.0          1   \n26344  18240       Shibrobi  SHIBORG       shibrobi  3919.0          1   \n26345  18241        DBQuest      DBQ        dbquest  3366.0          1   \n26346  18243        PlatinX      PTX        platinx  3287.0          1   \n\n          first_historical_data      last_historical_data  \\\n0     2013-04-28 18:47:21+00:00 2022-02-20 15:29:00+00:00   \n1     2013-04-28 18:47:22+00:00 2022-02-20 15:29:00+00:00   \n2     2013-04-28 18:47:22+00:00 2022-02-20 15:29:00+00:00   \n3     2013-04-28 18:47:22+00:00 2022-02-20 15:29:00+00:00   \n4     2013-04-28 18:47:23+00:00 2022-02-20 15:29:00+00:00   \n...                         ...                       ...   \n26342 2022-02-21 12:35:00+00:00 2022-02-21 18:45:00+00:00   \n26343 2022-02-21 12:30:00+00:00 2022-02-21 18:45:00+00:00   \n26344 2022-02-21 13:17:00+00:00 2022-02-21 18:47:00+00:00   \n26345 2022-02-21 13:20:00+00:00 2022-02-21 18:50:00+00:00   \n26346 2022-02-21 13:50:00+00:00 2022-02-21 18:45:00+00:00   \n\n                                                platform  \\\n0                                                   null   \n1                                                   null   \n2                                                   null   \n3                                                   null   \n4                                                   null   \n...                                                  ...   \n26342  {\"id\": 5805, \"name\": \"Avalanche C-Chain\", \"sym...   \n26343  {\"id\": 5426, \"name\": \"Solana\", \"symbol\": \"SOL\"...   \n26344  {\"id\": 1027, \"name\": \"Ethereum\", \"symbol\": \"ET...   \n26345  {\"id\": 1839, \"name\": \"BNB Smart Chain (BEP20)\"...   \n26346  {\"id\": 1839, \"name\": \"BNB Smart Chain (BEP20)\"...   \n\n       first_historical_data_year  last_historical_data_year  \n0                          2013.0                     2022.0  \n1                          2013.0                     2022.0  \n2                          2013.0                     2022.0  \n3                          2013.0                     2022.0  \n4                          2013.0                     2022.0  \n...                           ...                        ...  \n26342                      2022.0                     2022.0  \n26343                      2022.0                     2022.0  \n26344                      2022.0                     2022.0  \n26345                      2022.0                     2022.0  \n26346                      2022.0                     2022.0  \n\n[26347 rows x 11 columns]",
      "text/html": "<div>\n<style scoped>\n    .dataframe tbody tr th:only-of-type {\n        vertical-align: middle;\n    }\n\n    .dataframe tbody tr th {\n        vertical-align: top;\n    }\n\n    .dataframe thead th {\n        text-align: right;\n    }\n</style>\n<table border=\"1\" class=\"dataframe\">\n  <thead>\n    <tr style=\"text-align: right;\">\n      <th></th>\n      <th>id</th>\n      <th>name</th>\n      <th>symbol</th>\n      <th>slug</th>\n      <th>rank</th>\n      <th>is_active</th>\n      <th>first_historical_data</th>\n      <th>last_historical_data</th>\n      <th>platform</th>\n      <th>first_historical_data_year</th>\n      <th>last_historical_data_year</th>\n    </tr>\n  </thead>\n  <tbody>\n    <tr>\n      <th>0</th>\n      <td>1</td>\n      <td>Bitcoin</td>\n      <td>BTC</td>\n      <td>bitcoin</td>\n      <td>1.0</td>\n      <td>1</td>\n      <td>2013-04-28 18:47:21+00:00</td>\n      <td>2022-02-20 15:29:00+00:00</td>\n      <td>null</td>\n      <td>2013.0</td>\n      <td>2022.0</td>\n    </tr>\n    <tr>\n      <th>1</th>\n      <td>2</td>\n      <td>Litecoin</td>\n      <td>LTC</td>\n      <td>litecoin</td>\n      <td>20.0</td>\n      <td>1</td>\n      <td>2013-04-28 18:47:22+00:00</td>\n      <td>2022-02-20 15:29:00+00:00</td>\n      <td>null</td>\n      <td>2013.0</td>\n      <td>2022.0</td>\n    </tr>\n    <tr>\n      <th>2</th>\n      <td>3</td>\n      <td>Namecoin</td>\n      <td>NMC</td>\n      <td>namecoin</td>\n      <td>646.0</td>\n      <td>1</td>\n      <td>2013-04-28 18:47:22+00:00</td>\n      <td>2022-02-20 15:29:00+00:00</td>\n      <td>null</td>\n      <td>2013.0</td>\n      <td>2022.0</td>\n    </tr>\n    <tr>\n      <th>3</th>\n      <td>4</td>\n      <td>Terracoin</td>\n      <td>TRC</td>\n      <td>terracoin</td>\n      <td>1853.0</td>\n      <td>1</td>\n      <td>2013-04-28 18:47:22+00:00</td>\n      <td>2022-02-20 15:29:00+00:00</td>\n      <td>null</td>\n      <td>2013.0</td>\n      <td>2022.0</td>\n    </tr>\n    <tr>\n      <th>4</th>\n      <td>5</td>\n      <td>Peercoin</td>\n      <td>PPC</td>\n      <td>peercoin</td>\n      <td>821.0</td>\n      <td>1</td>\n      <td>2013-04-28 18:47:23+00:00</td>\n      <td>2022-02-20 15:29:00+00:00</td>\n      <td>null</td>\n      <td>2013.0</td>\n      <td>2022.0</td>\n    </tr>\n    <tr>\n      <th>...</th>\n      <td>...</td>\n      <td>...</td>\n      <td>...</td>\n      <td>...</td>\n      <td>...</td>\n      <td>...</td>\n      <td>...</td>\n      <td>...</td>\n      <td>...</td>\n      <td>...</td>\n      <td>...</td>\n    </tr>\n    <tr>\n      <th>26342</th>\n      <td>18238</td>\n      <td>Snowy Owl</td>\n      <td>SNO</td>\n      <td>snowy-owl</td>\n      <td>3043.0</td>\n      <td>1</td>\n      <td>2022-02-21 12:35:00+00:00</td>\n      <td>2022-02-21 18:45:00+00:00</td>\n      <td>{\"id\": 5805, \"name\": \"Avalanche C-Chain\", \"sym...</td>\n      <td>2022.0</td>\n      <td>2022.0</td>\n    </tr>\n    <tr>\n      <th>26343</th>\n      <td>18239</td>\n      <td>Sunny Side up</td>\n      <td>SSU</td>\n      <td>sunny-side-up</td>\n      <td>5537.0</td>\n      <td>1</td>\n      <td>2022-02-21 12:30:00+00:00</td>\n      <td>2022-02-21 18:45:00+00:00</td>\n      <td>{\"id\": 5426, \"name\": \"Solana\", \"symbol\": \"SOL\"...</td>\n      <td>2022.0</td>\n      <td>2022.0</td>\n    </tr>\n    <tr>\n      <th>26344</th>\n      <td>18240</td>\n      <td>Shibrobi</td>\n      <td>SHIBORG</td>\n      <td>shibrobi</td>\n      <td>3919.0</td>\n      <td>1</td>\n      <td>2022-02-21 13:17:00+00:00</td>\n      <td>2022-02-21 18:47:00+00:00</td>\n      <td>{\"id\": 1027, \"name\": \"Ethereum\", \"symbol\": \"ET...</td>\n      <td>2022.0</td>\n      <td>2022.0</td>\n    </tr>\n    <tr>\n      <th>26345</th>\n      <td>18241</td>\n      <td>DBQuest</td>\n      <td>DBQ</td>\n      <td>dbquest</td>\n      <td>3366.0</td>\n      <td>1</td>\n      <td>2022-02-21 13:20:00+00:00</td>\n      <td>2022-02-21 18:50:00+00:00</td>\n      <td>{\"id\": 1839, \"name\": \"BNB Smart Chain (BEP20)\"...</td>\n      <td>2022.0</td>\n      <td>2022.0</td>\n    </tr>\n    <tr>\n      <th>26346</th>\n      <td>18243</td>\n      <td>PlatinX</td>\n      <td>PTX</td>\n      <td>platinx</td>\n      <td>3287.0</td>\n      <td>1</td>\n      <td>2022-02-21 13:50:00+00:00</td>\n      <td>2022-02-21 18:45:00+00:00</td>\n      <td>{\"id\": 1839, \"name\": \"BNB Smart Chain (BEP20)\"...</td>\n      <td>2022.0</td>\n      <td>2022.0</td>\n    </tr>\n  </tbody>\n</table>\n<p>26347 rows × 11 columns</p>\n</div>"
     },
     "metadata": {}
    }
   ],
   "execution_count": null
  },
  {
   "cell_type": "code",
   "metadata": {
    "cell_id": "1bb790c2-6599-46b8-8640-83be4fff99fa",
    "tags": [],
    "deepnote_to_be_reexecuted": false,
    "source_hash": "705f0014",
    "execution_start": 1645480839872,
    "execution_millis": 13,
    "deepnote_cell_type": "code"
   },
   "source": "last_update = df_1.iloc[0]['last_update_date']\nupdate_df = data[data['last_historical_data'] > last_update]",
   "outputs": [],
   "execution_count": null
  },
  {
   "cell_type": "code",
   "metadata": {
    "cell_id": "96d6b671-9f95-414e-8ee6-ff3efedb8b5d",
    "tags": [],
    "deepnote_to_be_reexecuted": false,
    "source_hash": "7a089736",
    "execution_start": 1645480839908,
    "execution_millis": 11095529,
    "deepnote_cell_type": "code"
   },
   "source": "columns_updates = ['id', 'name', 'symbol', 'slug', 'rank', 'is_active', 'platform']",
   "outputs": [],
   "execution_count": null
  },
  {
   "cell_type": "code",
   "metadata": {
    "cell_id": "b7ec1f21-d7c8-41a5-99d5-154f3c005b93",
    "tags": [],
    "deepnote_to_be_reexecuted": false,
    "source_hash": "7f718029",
    "execution_start": 1645480839980,
    "execution_millis": 84,
    "deepnote_cell_type": "code"
   },
   "source": "update_ids = update_df['id'].values\n\n# filter data out that are not includet\ndata = data[data['id'].isin(update_ids)]\n\ndata_to_update = pd.concat([old_data[columns_updates],update_df[columns_updates]]).drop_duplicates(keep=False)",
   "outputs": [],
   "execution_count": null
  },
  {
   "cell_type": "code",
   "metadata": {
    "cell_id": "fa6f05fc-b796-48d3-bf66-d7c60b279485",
    "tags": [],
    "deepnote_to_be_reexecuted": false,
    "source_hash": "2ec8ce8",
    "execution_start": 1645480840067,
    "execution_millis": 3,
    "deepnote_cell_type": "code"
   },
   "source": "ids_to_update = data_to_update['id'].unique()",
   "outputs": [],
   "execution_count": null
  },
  {
   "cell_type": "code",
   "metadata": {
    "cell_id": "160c90a6-65dd-4e1b-afe8-196d4350654e",
    "tags": [],
    "deepnote_to_be_reexecuted": false,
    "source_hash": "361f6af",
    "execution_start": 1645480840128,
    "execution_millis": 1,
    "deepnote_cell_type": "code"
   },
   "source": "data = data[data['id'].isin(ids_to_update)]",
   "outputs": [],
   "execution_count": null
  },
  {
   "cell_type": "code",
   "metadata": {
    "cell_id": "7bb7b14e-5feb-4284-aaad-23ae24c5139b",
    "tags": [],
    "deepnote_to_be_reexecuted": false,
    "source_hash": "eaad753d",
    "execution_start": 1645480840129,
    "execution_millis": 3988,
    "deepnote_cell_type": "code"
   },
   "source": "db = create_engine(os.environ[\"CONN_STRING\"])\nconn = db.connect()\ndata.to_sql('coins', con=conn, if_exists='append', index=False)",
   "outputs": [],
   "execution_count": null
  },
  {
   "cell_type": "markdown",
   "source": "<a style='text-decoration:none;line-height:16px;display:flex;color:#5B5B62;padding:10px;justify-content:end;' href='https://deepnote.com?utm_source=created-in-deepnote-cell&projectId=08dc76ba-15fb-4bf7-936b-bb108060b391' target=\"_blank\">\n<img alt='Created in deepnote.com' style='display:inline;max-height:16px;margin:0px;margin-right:7.5px;' src='data:image/svg+xml;base64,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' > </img>\nCreated in <span style='font-weight:600;margin-left:4px;'>Deepnote</span></a>",
   "metadata": {
    "tags": [],
    "created_in_deepnote_cell": true,
    "deepnote_cell_type": "markdown"
   }
  }
 ],
 "nbformat": 4,
 "nbformat_minor": 2,
 "metadata": {
  "orig_nbformat": 2,
  "deepnote": {
   "is_reactive": false
  },
  "deepnote_notebook_id": "1374a5e8-3bf4-4686-a402-b713796fc6bd",
  "deepnote_execution_queue": [],
  "deepnote_app_layout": "article"
 }
}